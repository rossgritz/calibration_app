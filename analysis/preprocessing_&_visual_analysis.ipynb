{
 "cells": [
  {
   "cell_type": "code",
   "execution_count": 1,
   "metadata": {},
   "outputs": [],
   "source": [
    "import pandas as pd\n",
    "import numpy as np\n",
    "import datetime\n",
    "import math\n",
    "import matplotlib.pyplot as plt\n",
    "from matplotlib.ticker import PercentFormatter"
   ]
  },
  {
   "cell_type": "markdown",
   "metadata": {},
   "source": [
    "# import data from tournament"
   ]
  },
  {
   "cell_type": "code",
   "execution_count": 2,
   "metadata": {},
   "outputs": [],
   "source": [
    "dfs = []\n",
    "fnames = ['Week1.csv',\n",
    "         'Week2.csv',\n",
    "         'Week3.csv',\n",
    "         'Week4.csv',\n",
    "         'Week5.csv',\n",
    "         'Week6.csv',\n",
    "         'Week7.csv',\n",
    "         'Week8.csv',\n",
    "         'Week9.csv',\n",
    "         'Week10.csv',\n",
    "         'Week11.csv']"
   ]
  },
  {
   "cell_type": "code",
   "execution_count": 3,
   "metadata": {},
   "outputs": [],
   "source": [
    "# split treatment and control based on 'Collector ID' associated with different 1st week invite links\n",
    "for i in range(11):\n",
    "    dfs.append(pd.read_csv(fnames[i]).iloc[:,1:])\n",
    "group1 = []\n",
    "group2 = []\n",
    "group3 = []\n",
    "group1.append(dfs[0][dfs[0]['Collector ID'] == 246459632.0])\n",
    "group2.append(dfs[0][dfs[0]['Collector ID'] == 246459794.0])\n",
    "group3.append(dfs[0][dfs[0]['Collector ID'] == 246459113.0])"
   ]
  },
  {
   "cell_type": "code",
   "execution_count": 4,
   "metadata": {},
   "outputs": [],
   "source": [
    "# use emails from first week as key for matching participants results in later weeks\n",
    "emails1 = group1[0]['Email Address']\n",
    "emails2 = group2[0]['Email Address']\n",
    "emails3 = group3[0]['Email Address']\n",
    "for i in range(1,11):\n",
    "    group1.append(dfs[i][dfs[i]['Email Address'].isin(emails1)])\n",
    "    group2.append(dfs[i][dfs[i]['Email Address'].isin(emails2)])\n",
    "    group3.append(dfs[i][dfs[i]['Email Address'].isin(emails3)])"
   ]
  },
  {
   "cell_type": "code",
   "execution_count": 5,
   "metadata": {},
   "outputs": [],
   "source": [
    "for i in range(len(dfs)):\n",
    "    dfs[i] = dfs[i].iloc[:,1:]"
   ]
  },
  {
   "cell_type": "code",
   "execution_count": 6,
   "metadata": {},
   "outputs": [],
   "source": [
    "# participants who missed one or two weeks but were still rewarded upon completion\n",
    "missing1 = ['x25@x.edu']\n",
    "missing2 = ['x55@x.edu','x56@x.edu','x59@x.edu','x69@x.edu','x75@x.edu','x86@x.edu','x88@x.edu']\n",
    "missing3 = ['x105@x.edu','x131@x.edu','x133@x.edu']"
   ]
  },
  {
   "cell_type": "markdown",
   "metadata": {},
   "source": [
    "# Computing Scores"
   ]
  },
  {
   "cell_type": "code",
   "execution_count": 7,
   "metadata": {
    "code_folding": []
   },
   "outputs": [],
   "source": [
    "# add participants who missed either one or two weeks back to the analysis\n",
    "group1tot = group1[0]\n",
    "group2tot = group2[0]\n",
    "group3tot = group3[0]\n",
    "\n",
    "for i in range(1,11):\n",
    "\n",
    "    for j in range(len(missing1)):\n",
    "        emails = list(group1[i]['Email Address'])\n",
    "        for k, email in enumerate(emails):\n",
    "            emails[k] = email.strip()\n",
    "        if missing1[j].strip() not in emails:\n",
    "            #print (missing1[j])\n",
    "            group1[i].loc[group1[i].index[-1]+1] = missing1[j]\n",
    "            group1[i].iloc[-1,3] = '9/25/19 0:23'\n",
    "    \n",
    "    \n",
    "    for j in range(len(missing2)):\n",
    "        emails = list(group2[i]['Email Address'])\n",
    "        for k, email in enumerate(emails):\n",
    "            emails[k] = email.strip()\n",
    "        if missing2[j].strip() not in emails:\n",
    "            #print (missing2[j])\n",
    "            group2[i].loc[group2[i].index[-1]+1] = missing2[j]\n",
    "            group2[i].iloc[-1,3] = '9/25/19 0:23'\n",
    "            \n",
    "            \n",
    "    for j in range(len(missing3)):\n",
    "        emails = list(group3[i]['Email Address'])\n",
    "        for k, email in enumerate(emails):\n",
    "            emails[k] = email.strip()\n",
    "        if missing3[j].strip() not in emails:\n",
    "            #print (missing3[j])\n",
    "            group3[i].loc[group3[i].index[-1]+1] = missing3[j]    \n",
    "            group3[i].iloc[-1,3] = '9/25/19 0:23'\n",
    "            \n",
    "    \n",
    "    group1tot = group1tot.merge(group1[i],on='Email Address')\n",
    "    group2tot = group2tot.merge(group2[i],on='Email Address')\n",
    "    group3tot = group3tot.merge(group3[i],on='Email Address')"
   ]
  },
  {
   "cell_type": "markdown",
   "metadata": {},
   "source": [
    "## Group 1"
   ]
  },
  {
   "cell_type": "code",
   "execution_count": 8,
   "metadata": {},
   "outputs": [
    {
     "data": {
      "text/plain": [
       "(41, 178)"
      ]
     },
     "execution_count": 8,
     "metadata": {},
     "output_type": "execute_result"
    }
   ],
   "source": [
    "# removing redundant data\n",
    "group1tot = group1tot.iloc[:,3:]\n",
    "group1tot = pd.concat([group1tot.iloc[:,0], group1tot.iloc[:,2:]], axis=1)\n",
    "group1tot = pd.concat([group1tot.iloc[:,:2], group1tot.iloc[:,5:]], axis=1)\n",
    "group1tot = pd.concat([group1tot.iloc[:,:17], group1tot.iloc[:,19:]], axis=1)\n",
    "group1tot = pd.concat([group1tot.iloc[:,:19], group1tot.iloc[:,23:]], axis=1)\n",
    "group1tot = pd.concat([group1tot.iloc[:,:31], group1tot.iloc[:,33:35], group1tot.iloc[:,39:]], axis=1)\n",
    "group1tot = pd.concat([group1tot.iloc[:,:42], group1tot.iloc[:,44:46], group1tot.iloc[:,50:]], axis=1)\n",
    "group1tot = pd.concat([group1tot.iloc[:,:62], group1tot.iloc[:,64:66], group1tot.iloc[:,70:]], axis=1)\n",
    "group1tot = pd.concat([group1tot.iloc[:,:85], group1tot.iloc[:,87:89], group1tot.iloc[:,93:]], axis=1)\n",
    "group1tot = pd.concat([group1tot.iloc[:,:102], group1tot.iloc[:,104:106], group1tot.iloc[:,110:]], axis=1)\n",
    "group1tot = pd.concat([group1tot.iloc[:,:116], group1tot.iloc[:,118:120], group1tot.iloc[:,124:]], axis=1)\n",
    "group1tot = pd.concat([group1tot.iloc[:,:130], group1tot.iloc[:,132:134], group1tot.iloc[:,138:]], axis=1)\n",
    "group1tot = pd.concat([group1tot.iloc[:,:150], group1tot.iloc[:,152:154], group1tot.iloc[:,158:]], axis=1)\n",
    "group1tot = pd.concat([group1tot.iloc[:,:161], group1tot.iloc[:,163:165], group1tot.iloc[:,169:]], axis=1)\n",
    "group1tot.shape"
   ]
  },
  {
   "cell_type": "markdown",
   "metadata": {},
   "source": [
    "## Group 2"
   ]
  },
  {
   "cell_type": "code",
   "execution_count": 9,
   "metadata": {},
   "outputs": [
    {
     "data": {
      "text/plain": [
       "(46, 178)"
      ]
     },
     "execution_count": 9,
     "metadata": {},
     "output_type": "execute_result"
    }
   ],
   "source": [
    "# removing redundant data\n",
    "group2tot = group2tot.iloc[:,3:]\n",
    "group2tot = pd.concat([group2tot.iloc[:,0], group2tot.iloc[:,2:]], axis=1)\n",
    "group2tot = pd.concat([group2tot.iloc[:,:2], group2tot.iloc[:,5:]], axis=1)\n",
    "group2tot = pd.concat([group2tot.iloc[:,:17], group2tot.iloc[:,19:]], axis=1)\n",
    "group2tot = pd.concat([group2tot.iloc[:,:19], group2tot.iloc[:,23:]], axis=1)\n",
    "group2tot = pd.concat([group2tot.iloc[:,:31], group2tot.iloc[:,33:35], group2tot.iloc[:,39:]], axis=1)\n",
    "group2tot = pd.concat([group2tot.iloc[:,:42], group2tot.iloc[:,44:46], group2tot.iloc[:,50:]], axis=1)\n",
    "group2tot = pd.concat([group2tot.iloc[:,:62], group2tot.iloc[:,64:66], group2tot.iloc[:,70:]], axis=1)\n",
    "group2tot = pd.concat([group2tot.iloc[:,:85], group2tot.iloc[:,87:89], group2tot.iloc[:,93:]], axis=1)\n",
    "group2tot = pd.concat([group2tot.iloc[:,:102], group2tot.iloc[:,104:106], group2tot.iloc[:,110:]], axis=1)\n",
    "group2tot = pd.concat([group2tot.iloc[:,:116], group2tot.iloc[:,118:120], group2tot.iloc[:,124:]], axis=1)\n",
    "group2tot = pd.concat([group2tot.iloc[:,:130], group2tot.iloc[:,132:134], group2tot.iloc[:,138:]], axis=1)\n",
    "group2tot = pd.concat([group2tot.iloc[:,:150], group2tot.iloc[:,152:154], group2tot.iloc[:,158:]], axis=1)\n",
    "group2tot = pd.concat([group2tot.iloc[:,:161], group2tot.iloc[:,163:165], group2tot.iloc[:,169:]], axis=1)\n",
    "group2tot.shape"
   ]
  },
  {
   "cell_type": "markdown",
   "metadata": {},
   "source": [
    "## Group 3"
   ]
  },
  {
   "cell_type": "code",
   "execution_count": 10,
   "metadata": {},
   "outputs": [
    {
     "data": {
      "text/plain": [
       "(42, 178)"
      ]
     },
     "execution_count": 10,
     "metadata": {},
     "output_type": "execute_result"
    }
   ],
   "source": [
    "group3tot = group3tot.iloc[:,3:]\n",
    "group3tot = pd.concat([group3tot.iloc[:,0], group3tot.iloc[:,2:]], axis=1)\n",
    "group3tot = pd.concat([group3tot.iloc[:,:2], group3tot.iloc[:,5:]], axis=1)\n",
    "group3tot = pd.concat([group3tot.iloc[:,:17], group3tot.iloc[:,19:]], axis=1)\n",
    "group3tot = pd.concat([group3tot.iloc[:,:19], group3tot.iloc[:,23:]], axis=1)\n",
    "group3tot = pd.concat([group3tot.iloc[:,:31], group3tot.iloc[:,33:35], group3tot.iloc[:,39:]], axis=1)\n",
    "group3tot = pd.concat([group3tot.iloc[:,:42], group3tot.iloc[:,44:46], group3tot.iloc[:,50:]], axis=1)\n",
    "group3tot = pd.concat([group3tot.iloc[:,:62], group3tot.iloc[:,64:66], group3tot.iloc[:,70:]], axis=1)\n",
    "group3tot = pd.concat([group3tot.iloc[:,:85], group3tot.iloc[:,87:89], group3tot.iloc[:,93:]], axis=1)\n",
    "group3tot = pd.concat([group3tot.iloc[:,:102], group3tot.iloc[:,104:106], group3tot.iloc[:,110:]], axis=1)\n",
    "group3tot = pd.concat([group3tot.iloc[:,:116], group3tot.iloc[:,118:120], group3tot.iloc[:,124:]], axis=1)\n",
    "group3tot = pd.concat([group3tot.iloc[:,:130], group3tot.iloc[:,132:134], group3tot.iloc[:,138:]], axis=1)\n",
    "group3tot = pd.concat([group3tot.iloc[:,:150], group3tot.iloc[:,152:154], group3tot.iloc[:,158:]], axis=1)\n",
    "group3tot = pd.concat([group3tot.iloc[:,:161], group3tot.iloc[:,163:165], group3tot.iloc[:,169:]], axis=1)\n",
    "group3tot.shape"
   ]
  },
  {
   "cell_type": "markdown",
   "metadata": {},
   "source": [
    "### Encoding the results of the games"
   ]
  },
  {
   "cell_type": "code",
   "execution_count": 11,
   "metadata": {},
   "outputs": [],
   "source": [
    "outcomes = []\n",
    "nogames = [5,4,3,6,7,5,4,4,6,3,5]\n",
    "ignore = [2,2,0,None,1,1,2,None,0,None,3]\n",
    "# Vandy vs LSU, Florida vs TN, A&M vs AU, Miss St vs KY, Mizzou vs SC\n",
    "week1 = [False,True,False,True,True] #17\n",
    "outcomes.append(week1)\n",
    "# Arkansas vs A&M, Bama vs Miss, AU vs Miss St, SC vs KY\n",
    "week2 = [False,True,True,True] #14\n",
    "outcomes.append(week2)\n",
    "# Florida vs AU, TN vs UGA, Miss vs Vandy\n",
    "week3 = [True,False,True] #11\n",
    "outcomes.append(week3)\n",
    "# UGA vs SC, TN vs Miss St, A&M vs Bama, KY vs Arkansas, Mizzou vs Miss, LSU vs Florida \n",
    "week4 = [False,True,False,True,True,True] #20\n",
    "outcomes.append(week4)\n",
    "# SC vs Florida, Arkansas vs AU, Miss St vs LSU, Vandy vs Mizzou, UGA vs KY, Miss vs A&M, Bama vs TN\n",
    "week5 = [False,False,False,True,True,False,True] #23\n",
    "outcomes.append(week5)\n",
    "# A&M vs Miss St, LSU vs AU, TN vs SC, Bama vs Arkansas, KY vs Mizzou\n",
    "week6 = [True,True,True,True,True] #17\n",
    "outcomes.append(week6)\n",
    "# Florida vs UGA, Arkansas vs Miss St, AU vs Miss, SC vs Vandy \n",
    "week7 = [False,False,True,True] #14\n",
    "outcomes.append(week7)\n",
    "# Florida vs Vandy, Bama vs LSU, UGA vs Mizzou, KY vs TN\n",
    "week8 = [True,False,True,False] #14\n",
    "outcomes.append(week8)\n",
    "# AU vs UGA, Miss St vs Bama, Mizzou vs FL, Vandy vs KY, Miss vs LSU, A&M vs SC\n",
    "week9 = [False,False,False,False,False,True] #20\n",
    "outcomes.append(week9)\n",
    "# LSU vs Arkansas, UGA vs A&M, Mizzou vs TN\n",
    "week10 = [True,True,False] #11\n",
    "outcomes.append(week10)\n",
    "# Miss St vs Miss, Arkansas vs Mizzou, LSU vs A&M, AU vs Bama, TN vs Vandy\n",
    "week11 = [True,False,True,True,True] #17\n",
    "outcomes.append(week11)"
   ]
  },
  {
   "cell_type": "markdown",
   "metadata": {},
   "source": [
    "### Encoding the weekly indices"
   ]
  },
  {
   "cell_type": "code",
   "execution_count": 12,
   "metadata": {},
   "outputs": [],
   "source": [
    "indicies = [18,32,43,63,86,103,117,131,151,162]"
   ]
  },
  {
   "cell_type": "markdown",
   "metadata": {},
   "source": [
    "### Check dates & times to make sure surveys weren't completed after games started"
   ]
  },
  {
   "cell_type": "code",
   "execution_count": 13,
   "metadata": {},
   "outputs": [],
   "source": [
    "check = datetime.datetime(2019,9,28,12,0,0)\n",
    "g1ok = group1tot[pd.to_datetime(group1tot.iloc[:,0]) < check]\n",
    "g2ok = group2tot[pd.to_datetime(group2tot.iloc[:,0]) < check]\n",
    "g3ok = group3tot[pd.to_datetime(group3tot.iloc[:,0]) < check]"
   ]
  },
  {
   "cell_type": "code",
   "execution_count": 14,
   "metadata": {},
   "outputs": [],
   "source": [
    "check = datetime.datetime(2019,9,28,12,0,0)\n",
    "g1ok = g1ok[pd.to_datetime(g1ok.iloc[:,18]) < check]\n",
    "g2ok = g2ok[pd.to_datetime(g2ok.iloc[:,18]) < check]\n",
    "g3ok = g3ok[pd.to_datetime(g3ok.iloc[:,18]) < check]"
   ]
  },
  {
   "cell_type": "code",
   "execution_count": 15,
   "metadata": {},
   "outputs": [],
   "source": [
    "check = datetime.datetime(2019,10,5,12,0,0)\n",
    "g1ok = g1ok[pd.to_datetime(g1ok.iloc[:,32]) < check]\n",
    "g2ok = g2ok[pd.to_datetime(g2ok.iloc[:,32]) < check]\n",
    "g3ok = g3ok[pd.to_datetime(g3ok.iloc[:,32]) < check]"
   ]
  },
  {
   "cell_type": "code",
   "execution_count": 16,
   "metadata": {},
   "outputs": [],
   "source": [
    "check = datetime.datetime(2019,10,12,12,0,0)\n",
    "g1ok = g1ok[pd.to_datetime(g1ok.iloc[:,43]) < check]\n",
    "g2ok = g2ok[pd.to_datetime(g2ok.iloc[:,43]) < check]\n",
    "g3ok = g3ok[pd.to_datetime(g3ok.iloc[:,43]) < check]"
   ]
  },
  {
   "cell_type": "code",
   "execution_count": 17,
   "metadata": {},
   "outputs": [],
   "source": [
    "check = datetime.datetime(2019,10,19,12,0,0)\n",
    "g1ok = g1ok[pd.to_datetime(g1ok.iloc[:,63]) < check]\n",
    "g2ok = g2ok[pd.to_datetime(g2ok.iloc[:,63]) < check]\n",
    "g3ok = g3ok[pd.to_datetime(g3ok.iloc[:,63]) < check]"
   ]
  },
  {
   "cell_type": "code",
   "execution_count": 18,
   "metadata": {},
   "outputs": [],
   "source": [
    "check = datetime.datetime(2019,10,26,12,0,0)\n",
    "g1ok = g1ok[pd.to_datetime(g1ok.iloc[:,86]) < check]\n",
    "g2ok = g2ok[pd.to_datetime(g2ok.iloc[:,86]) < check]\n",
    "g3ok = g3ok[pd.to_datetime(g3ok.iloc[:,86]) < check]"
   ]
  },
  {
   "cell_type": "code",
   "execution_count": 19,
   "metadata": {},
   "outputs": [],
   "source": [
    "check = datetime.datetime(2019,11,2,12,0,0)\n",
    "g1ok = g1ok[pd.to_datetime(g1ok.iloc[:,103]) < check]\n",
    "g2ok = g2ok[pd.to_datetime(g2ok.iloc[:,103]) < check]\n",
    "g3ok = g3ok[pd.to_datetime(g3ok.iloc[:,103]) < check]"
   ]
  },
  {
   "cell_type": "code",
   "execution_count": 20,
   "metadata": {},
   "outputs": [],
   "source": [
    "check = datetime.datetime(2019,11,9,12,0,0)\n",
    "g1ok = g1ok[pd.to_datetime(g1ok.iloc[:,117]) < check]\n",
    "g2ok = g2ok[pd.to_datetime(g2ok.iloc[:,117]) < check]\n",
    "g3ok = g3ok[pd.to_datetime(g3ok.iloc[:,117]) < check]"
   ]
  },
  {
   "cell_type": "code",
   "execution_count": 21,
   "metadata": {},
   "outputs": [],
   "source": [
    "check = datetime.datetime(2019,11,16,12,0,0)\n",
    "g1ok = g1ok[pd.to_datetime(g1ok.iloc[:,131]) < check]\n",
    "g2ok = g2ok[pd.to_datetime(g2ok.iloc[:,131]) < check]\n",
    "g3ok = g3ok[pd.to_datetime(g3ok.iloc[:,131]) < check]"
   ]
  },
  {
   "cell_type": "code",
   "execution_count": 22,
   "metadata": {},
   "outputs": [],
   "source": [
    "check = datetime.datetime(2019,11,23,12,0,0)\n",
    "g1ok = g1ok[pd.to_datetime(g1ok.iloc[:,151]) < check]\n",
    "g2ok = g2ok[pd.to_datetime(g2ok.iloc[:,151]) < check]\n",
    "g3ok = g3ok[pd.to_datetime(g3ok.iloc[:,151]) < check]"
   ]
  },
  {
   "cell_type": "code",
   "execution_count": 23,
   "metadata": {},
   "outputs": [],
   "source": [
    "check = datetime.datetime(2019,11,30,12,0,0)\n",
    "g1ok = g1ok[pd.to_datetime(g1ok.iloc[:,162]) < check]\n",
    "g2ok = g2ok[pd.to_datetime(g2ok.iloc[:,162]) < check]\n",
    "g3ok = g3ok[pd.to_datetime(g3ok.iloc[:,162]) < check]"
   ]
  },
  {
   "cell_type": "code",
   "execution_count": 24,
   "metadata": {},
   "outputs": [
    {
     "data": {
      "text/plain": [
       "(38, 178)"
      ]
     },
     "execution_count": 24,
     "metadata": {},
     "output_type": "execute_result"
    }
   ],
   "source": [
    "g1ok.shape"
   ]
  },
  {
   "cell_type": "code",
   "execution_count": 25,
   "metadata": {},
   "outputs": [
    {
     "data": {
      "text/plain": [
       "(45, 178)"
      ]
     },
     "execution_count": 25,
     "metadata": {},
     "output_type": "execute_result"
    }
   ],
   "source": [
    "g2ok.shape"
   ]
  },
  {
   "cell_type": "code",
   "execution_count": 26,
   "metadata": {},
   "outputs": [
    {
     "data": {
      "text/plain": [
       "(40, 178)"
      ]
     },
     "execution_count": 26,
     "metadata": {},
     "output_type": "execute_result"
    }
   ],
   "source": [
    "g3ok.shape"
   ]
  },
  {
   "cell_type": "markdown",
   "metadata": {},
   "source": [
    "## Evaluation"
   ]
  },
  {
   "cell_type": "code",
   "execution_count": 27,
   "metadata": {},
   "outputs": [],
   "source": [
    "IGNORE = False\n",
    "ISOLATE = False\n",
    "weeks = 11\n",
    "NOGAMES = 52"
   ]
  },
  {
   "cell_type": "markdown",
   "metadata": {},
   "source": [
    "### Compute Tournament Scores "
   ]
  },
  {
   "cell_type": "code",
   "execution_count": 28,
   "metadata": {},
   "outputs": [],
   "source": [
    "#no1 - process tournament data for 120-question group"
   ]
  },
  {
   "cell_type": "code",
   "execution_count": 29,
   "metadata": {},
   "outputs": [],
   "source": [
    "tscores = None\n",
    "scores1 = 'x'\n",
    "scorest1 = None\n",
    "probs = None\n",
    "probsl = None\n",
    "predictions1 = None\n",
    "predictions1t = None\n",
    "predictions1p = None"
   ]
  },
  {
   "cell_type": "code",
   "execution_count": 30,
   "metadata": {},
   "outputs": [],
   "source": [
    "ct = 0\n",
    "count = 2\n",
    "scores1 = np.zeros(38)\n",
    "emails = g1ok['Email Address']\n",
    "predictions1 = np.zeros([g1ok.shape[0],NOGAMES,2]) #***\n",
    "predictions1t = np.zeros([g1ok.shape[0],NOGAMES])\n",
    "predictions1p = np.zeros([g1ok.shape[0],NOGAMES])\n",
    "idx = 0\n",
    "for it, outcome in enumerate(outcomes[:weeks]):\n",
    "    for ig, game in enumerate(outcome):\n",
    "        if ig == ignore[it] and IGNORE == True:\n",
    "            count += 3\n",
    "            ct += 1\n",
    "            continue\n",
    "        if ig != ignore[it] and ISOLATE == True:\n",
    "            count += 3\n",
    "            ct += 1\n",
    "            continue\n",
    "        if game == True:\n",
    "            if type(g1ok.iloc[0,count]) == bool:\n",
    "                tscores = pd.to_numeric(g1ok.iloc[:,count],errors='coerce')\n",
    "                tscores = tscores.fillna(0)\n",
    "            elif type(g1ok.iloc[0,count]) == int or type(g1ok.iloc[0,count]) == float:\n",
    "                tscores = g1ok.iloc[:,count]*1\n",
    "                tscores = tscores.fillna(0)\n",
    "            probs = g1ok.iloc[:,count+2]\n",
    "            probs = pd.DataFrame([50 if '@' in ele else int(ele) for ele in probs])\n",
    "            probs[probs.iloc[:] > 98] = 98.\n",
    "            probsl = probs.values.tolist()\n",
    "            tscoresl = np.array(tscores)\n",
    "            bscores = np.zeros(len(probsl))\n",
    "            emailz = []\n",
    "            for i, prob in enumerate(probsl):\n",
    "                emailz.append(emails.iloc[i])\n",
    "                prob=prob[0]\n",
    "                if tscoresl[i] == 1 or tscoresl[i] == True:\n",
    "                    x = (prob/100.)/2. + 0.5\n",
    "                    xx = x\n",
    "                    predictions1[i,idx,0] = 1\n",
    "                    predictions1[i,idx,1] = x\n",
    "                    predictions1t[i,idx] = 1\n",
    "                    predictions1p[i,idx] = x\n",
    "                elif tscoresl[i] == 0 or tscoresl[i] == False: \n",
    "                    x = 1-((prob/100.)/2. + 0.5)\n",
    "                    xx = 1-x\n",
    "                    predictions1[i,idx,0] = 0\n",
    "                    predictions1[i,idx,1] = x\n",
    "                    predictions1t[i,idx] = 0\n",
    "                    predictions1p[i,idx] = xx                        \n",
    "                else:\n",
    "                    x = 0.5\n",
    "                    xx = 0.5\n",
    "                    predictions1[i,idx,0] = 1\n",
    "                    predictions1[i,idx,1] = -.5\n",
    "                bscores[i] = (1-x)*(1-x)\n",
    "                probs.iloc[i] = x\n",
    "            try: \n",
    "                tbscores = pd.DataFrame(bscores)\n",
    "                scores1 = pd.concat([scores1,tbscores],axis=1)\n",
    "            except TypeError:\n",
    "                temails = pd.DataFrame(emailz)\n",
    "                tbscores = pd.DataFrame(bscores)\n",
    "                scores1 = pd.concat([temails,tbscores],axis=1)\n",
    "                scorest1 = tscores\n",
    "            count += 3\n",
    "            idx+=1\n",
    "        if game == False:\n",
    "            count += 1\n",
    "            if type(g1ok.iloc[0,count]) == bool:\n",
    "                tscores = pd.to_numeric(g1ok.iloc[:,count],errors='coerce')\n",
    "                tscores = tscores.fillna(1)\n",
    "            elif type(g1ok.iloc[0,count]) == int or type(g1ok.iloc[0,count]) == float:\n",
    "                tscores = g1ok.iloc[:,count]*1\n",
    "                tscores = tscores.fillna(1)\n",
    "            probs = g1ok.iloc[:,count+1]\n",
    "            probs = pd.DataFrame([50 if '@' in ele else int(ele) for ele in probs])\n",
    "            probs[probs.iloc[:] > 98.] = 98.\n",
    "            probsl = probs.values.tolist()\n",
    "            tscoresl = np.array(tscores)\n",
    "            bscores = np.zeros(len(probsl))\n",
    "            emailz = []\n",
    "            for i, prob in enumerate(probsl):\n",
    "                prob = prob[0]\n",
    "                emailz.append(emails.iloc[i])\n",
    "                if tscoresl[i] == 0 or tscoresl[i] == False: #******\n",
    "                    x = (prob/100.)/2. + 0.5\n",
    "                    xx = x\n",
    "                    predictions1[i,idx,0] = 1\n",
    "                    predictions1[i,idx,1] = 1-x\n",
    "                    predictions1t[i,idx] = 1\n",
    "                    predictions1p[i,idx] = x                       \n",
    "                elif tscoresl[i] == 1 or tscoresl[i] == True: #******\n",
    "                    x = 1-((prob/100.)/2. + 0.5)\n",
    "                    xx = 1-x\n",
    "                    predictions1[i,idx,0] = 0\n",
    "                    predictions1[i,idx,1] = 1-x\n",
    "                    predictions1t[i,idx] = 0\n",
    "                    predictions1p[i,idx] = 1-x                        \n",
    "                else:\n",
    "                    x = 0.5\n",
    "                    xx = 0.5\n",
    "                    predictions1[i,idx,0] = 0\n",
    "                    predictions1[i,idx,1] = -.5\n",
    "                bscores[i] = (1-x)*(1-x)\n",
    "                probs.iloc[i] = x\n",
    "            try: \n",
    "                tbscores = pd.DataFrame(bscores)\n",
    "                scores1 = pd.concat([scores1,tbscores],axis=1)\n",
    "            except TypeError:\n",
    "                temails = pd.DataFrame(emailz)\n",
    "                tbscores = pd.DataFrame(bscores)\n",
    "                scores1 = pd.concat([temails,tbscores],axis=1)\n",
    "            count += 2\n",
    "            idx+=1\n",
    "        ct += 1\n",
    "    count += 2"
   ]
  },
  {
   "cell_type": "code",
   "execution_count": 31,
   "metadata": {},
   "outputs": [],
   "source": [
    "#no2 - process tournament data for 60-question group"
   ]
  },
  {
   "cell_type": "code",
   "execution_count": 32,
   "metadata": {},
   "outputs": [],
   "source": [
    "tscores = None\n",
    "scores2 = 'x'\n",
    "probs = None\n",
    "probsl = None\n",
    "tscoresl = None\n",
    "emails2 = 'x'\n",
    "predictions2 = None\n",
    "predictions2t = None\n",
    "predictions2p = None"
   ]
  },
  {
   "cell_type": "code",
   "execution_count": 33,
   "metadata": {},
   "outputs": [],
   "source": [
    "ct = 0\n",
    "count = 2\n",
    "emails = g2ok['Email Address']\n",
    "predictions2 = np.zeros([g2ok.shape[0],NOGAMES,2]) #***\n",
    "predictions2t = np.zeros([g2ok.shape[0],NOGAMES])\n",
    "predictions2p = np.zeros([g2ok.shape[0],NOGAMES])\n",
    "idx = 0\n",
    "for it, outcome in enumerate(outcomes[:weeks]):\n",
    "    for ig, game in enumerate(outcome):\n",
    "        if ig == ignore[it] and IGNORE == True:\n",
    "            count += 3\n",
    "            ct += 1\n",
    "            continue\n",
    "        if ig != ignore[it] and ISOLATE == True:\n",
    "            count += 3\n",
    "            ct += 1\n",
    "            continue\n",
    "        if game == True:\n",
    "            if type(g2ok.iloc[0,count]) == bool:\n",
    "                tscores = pd.to_numeric(g2ok.iloc[:,count],errors='coerce')\n",
    "                tscores = tscores.fillna(0)\n",
    "            elif type(g2ok.iloc[0,count]) == int or type(g2ok.iloc[0,count]) == float:\n",
    "                tscores = g2ok.iloc[:,count]*1\n",
    "                tscores = tscores.fillna(0)\n",
    "            probs = g2ok.iloc[:,count+2]\n",
    "            probs = pd.DataFrame([50 if '@' in ele else int(ele) for ele in probs])\n",
    "            probs[probs.iloc[:] > 98] = 98.\n",
    "            probsl = probs.values.tolist()\n",
    "            tscoresl = np.array(tscores)\n",
    "            bscores = np.zeros(len(probsl))\n",
    "            xt = np.zeros(len(probsl))\n",
    "            emailz = []\n",
    "            for i, prob in enumerate(probsl):\n",
    "                prob=prob[0]\n",
    "                emailz.append(emails.iloc[i])\n",
    "                xt[i] = x\n",
    "                if tscoresl[i] == 1 or tscoresl[i] == True:\n",
    "                    x = (prob/100.)/2. + 0.5\n",
    "                    xx = x\n",
    "                    predictions2[i,idx,0] = 1\n",
    "                    predictions2[i,idx,1] = x\n",
    "                    predictions2t[i,idx] = 1\n",
    "                    predictions2p[i,idx] = x\n",
    "                elif tscoresl[i] == 0 or tscoresl[i] == False: \n",
    "                    x = 1-((prob/100.)/2. + 0.5)\n",
    "                    xx = 1-x\n",
    "                    predictions2[i,idx,0] = 0\n",
    "                    predictions2[i,idx,1] = x\n",
    "                    predictions2t[i,idx] = 0\n",
    "                    predictions2p[i,idx] = xx                        \n",
    "                else:\n",
    "                    x = 0.5\n",
    "                    xx = 0.5\n",
    "                    predictions2[i,idx,0] = 1\n",
    "                    predictions2[i,idx,1] = -0.5\n",
    "                bscores[i] = (1-x)*(1-x)\n",
    "                probs.iloc[i] = x\n",
    "            try: \n",
    "                tbscores = pd.DataFrame(bscores)\n",
    "                scores2 = pd.concat([scores2,tbscores],axis=1)\n",
    "            except:\n",
    "                temails = pd.DataFrame(emailz)\n",
    "                tbscores = pd.DataFrame(bscores)\n",
    "                scores2 = pd.concat([temails,tbscores],axis=1)\n",
    "            count += 3\n",
    "            idx+=1\n",
    "        if game == False:\n",
    "            count += 1\n",
    "            if type(g2ok.iloc[0,count]) == bool:\n",
    "                tscores = pd.to_numeric(g2ok.iloc[:,count],errors='coerce')\n",
    "                tscores = tscores.fillna(1)\n",
    "            elif type(g2ok.iloc[0,count]) == int or type(g2ok.iloc[0,count]) == float:\n",
    "                tscores = g2ok.iloc[:,count]*1\n",
    "                tscores = tscores.fillna(1)\n",
    "            probs = g2ok.iloc[:,count+1]\n",
    "            probs = pd.DataFrame([50 if '@' in ele else int(ele) for ele in probs])\n",
    "            probs[probs.iloc[:] > 98.] = 98.\n",
    "            probsl = probs.values.tolist()\n",
    "            tscoresl = np.array(tscores)\n",
    "            bscores = np.zeros(len(probsl))\n",
    "            xt = np.zeros(len(probsl))\n",
    "            emailz = []\n",
    "            for i, prob in enumerate(probsl):\n",
    "                prob = prob[0]\n",
    "                emailz.append(emails.iloc[i])\n",
    "                if tscoresl[i] == 0 or tscoresl[i] == False:\n",
    "                    x = (prob/100.)/2. + 0.5\n",
    "                    xx = x\n",
    "                    predictions2[i,idx,0] = 1\n",
    "                    predictions2[i,idx,1] = 1-x\n",
    "                    predictions2t[i,idx] = 1\n",
    "                    predictions2p[i,idx] = x                        \n",
    "                elif tscoresl[i] == 1 or tscoresl[i] == True: \n",
    "                    x = 1-((prob/100.)/2. + 0.5)\n",
    "                    xx = 1-x\n",
    "                    predictions2[i,idx,0] = 0\n",
    "                    predictions2[i,idx,1] = 1-x\n",
    "                    predictions2t[i,idx] = 0\n",
    "                    predictions2p[i,idx] = 1-x                        \n",
    "                else:\n",
    "                    x = 0.5\n",
    "                    xx = 0.5\n",
    "                    predictions2[i,idx,0] = 0\n",
    "                    predictions2[i,idx,1] = -0.5\n",
    "                bscores[i] = (1-x)*(1-x)\n",
    "                probs.iloc[i] = x\n",
    "            try: \n",
    "                tbscores = pd.DataFrame(bscores)\n",
    "                scores2 = pd.concat([scores2,tbscores],axis=1)\n",
    "            except:\n",
    "                temails = pd.DataFrame(emailz)\n",
    "                tbscores = pd.DataFrame(bscores)\n",
    "                scores2 = pd.concat([temails,tbscores],axis=1)\n",
    "            count += 2\n",
    "            idx+=1\n",
    "        ct += 1\n",
    "    count += 2"
   ]
  },
  {
   "cell_type": "code",
   "execution_count": 34,
   "metadata": {},
   "outputs": [],
   "source": [
    "#no3 - process tournament data for control group"
   ]
  },
  {
   "cell_type": "code",
   "execution_count": 35,
   "metadata": {},
   "outputs": [],
   "source": [
    "tscores = None\n",
    "scores3 = 'x'\n",
    "probs = None\n",
    "probsl = None\n",
    "tscoresl = None\n",
    "predictions3 = None\n",
    "predictions3t = None\n",
    "predictions3p = None"
   ]
  },
  {
   "cell_type": "code",
   "execution_count": 36,
   "metadata": {},
   "outputs": [],
   "source": [
    "ct = 0\n",
    "count = 2\n",
    "emails = g3ok['Email Address']\n",
    "predictions3 = np.zeros([g3ok.shape[0],NOGAMES,2]) #***\n",
    "predictions3t = np.zeros([g3ok.shape[0],NOGAMES])\n",
    "predictions3p = np.zeros([g3ok.shape[0],NOGAMES])\n",
    "idx = 0\n",
    "for it, outcome in enumerate(outcomes[:weeks]):\n",
    "    for ig, game in enumerate(outcome):\n",
    "        if ig == ignore[it] and IGNORE == True:\n",
    "            count += 3\n",
    "            ct += 1\n",
    "            continue\n",
    "        if ig != ignore[it] and ISOLATE == True:\n",
    "            count += 3\n",
    "            ct += 1\n",
    "            continue\n",
    "        if game == True:\n",
    "            if type(g3ok.iloc[0,count]) == bool:\n",
    "                tscores = pd.to_numeric(g3ok.iloc[:,count],errors='coerce')\n",
    "                tscores = tscores.fillna(0)\n",
    "            elif type(g3ok.iloc[0,count]) == int or type(g3ok.iloc[0,count]) == float:\n",
    "                tscores = g3ok.iloc[:,count]*1\n",
    "                tscores = tscores.fillna(0)\n",
    "            probs = g3ok.iloc[:,count+2]\n",
    "            probs = pd.DataFrame([50 if '@' in ele else int(ele) for ele in probs])\n",
    "            probs[probs.iloc[:] > 98] = 98\n",
    "            probsl = probs.values.tolist()\n",
    "            tscoresl = np.array(tscores)\n",
    "            bscores = np.zeros(len(probsl))\n",
    "            emailz = []\n",
    "            for i, prob in enumerate(probsl):\n",
    "                prob=prob[0]\n",
    "                emailz.append(emails.iloc[i])\n",
    "                if tscoresl[i] == 1 or tscoresl[i] == True:\n",
    "                    x = (prob/100.)/2. + 0.5\n",
    "                    xx = x\n",
    "                    predictions3[i,idx,0] = 1\n",
    "                    predictions3[i,idx,1] = x\n",
    "                    predictions3t[i,idx] = 1\n",
    "                    predictions3p[i,idx] = x\n",
    "                elif tscoresl[i] == 0 or tscoresl[i] == False: \n",
    "                    x = 1-((prob/100.)/2. + 0.5)\n",
    "                    xx = 1-x\n",
    "                    predictions3[i,idx,0] = 0\n",
    "                    predictions3[i,idx,1] = x\n",
    "                    predictions3t[i,idx] = 0\n",
    "                    predictions3p[i,idx] = xx\n",
    "                else:\n",
    "                    x = 0.5\n",
    "                    xx = 0.5\n",
    "                    predictions3[i,idx,0] = 1\n",
    "                    predictions3[i,idx,1] = -0.5\n",
    "                bscores[i] = (1-x)*(1-x)                \n",
    "                probs.iloc[i] = x\n",
    "            try: \n",
    "                tbscores = pd.DataFrame(bscores)\n",
    "                scores3 = pd.concat([scores3,tbscores],axis=1)\n",
    "            except:\n",
    "                tbscores = pd.DataFrame(bscores)\n",
    "                temails = pd.DataFrame(emailz)\n",
    "                scores3 = pd.concat([temails,tbscores],axis=1)\n",
    "            count += 3\n",
    "            idx+=1\n",
    "        if game == False:\n",
    "            count += 1\n",
    "            if type(g3ok.iloc[0,count]) == bool:\n",
    "                tscores = pd.to_numeric(g3ok.iloc[:,count],errors='coerce')\n",
    "                tscores = tscores.fillna(1)\n",
    "            elif type(g3ok.iloc[0,count]) == int or type(g3ok.iloc[0,count]) == float:\n",
    "                tscores = g3ok.iloc[:,count]*1\n",
    "                tscores = tscores.fillna(1)\n",
    "            probs = g3ok.iloc[:,count+1]\n",
    "            probs = pd.DataFrame([50 if '@' in ele else int(ele) for ele in probs])\n",
    "            probs[probs.iloc[:] > 98.] = 98.\n",
    "            probsl = probs.values.tolist()\n",
    "            tscoresl = np.array(tscores)\n",
    "            bscores = np.zeros(len(probsl))\n",
    "            emailz = []\n",
    "            for i, prob in enumerate(probsl):\n",
    "                prob=prob[0]\n",
    "                emailz.append(emails.iloc[i])\n",
    "                if tscoresl[i] == 0 or tscoresl[i] == False:\n",
    "                    x = (prob/100.)/2. + 0.5\n",
    "                    xx = x\n",
    "                    predictions3[i,idx,0] = 1\n",
    "                    predictions3[i,idx,1] = 1-x\n",
    "                    predictions3t[i,idx] = 1\n",
    "                    predictions3p[i,idx] = x\n",
    "                elif tscoresl[i] == 1 or tscoresl[i] == True: \n",
    "                    x = 1-((prob/100.)/2. + 0.5)\n",
    "                    xx = 1-x\n",
    "                    predictions3[i,idx,0] = 0\n",
    "                    predictions3[i,idx,1] = 1-x\n",
    "                    predictions3t[i,idx] = 0\n",
    "                    predictions3p[i,idx] = xx\n",
    "                else:\n",
    "                    x = 0.5\n",
    "                    xx = 0.5\n",
    "                    predictions3[i,idx,0] = 0\n",
    "                    predictions3[i,idx,1] = -0.5\n",
    "                bscores[i] = (1-x)*(1-x)\n",
    "                probs.iloc[i] = x\n",
    "            try: \n",
    "                tbscores = pd.DataFrame(bscores)\n",
    "                scores3 = pd.concat([scores3,tbscores],axis=1)\n",
    "            except:\n",
    "                temails = pd.DataFrame(emailz)\n",
    "                tbscores = pd.DataFrame(bscores)\n",
    "                scores3 = pd.concat([temails,tbscores],axis=1)\n",
    "            count += 2\n",
    "            idx+=1\n",
    "        ct += 1\n",
    "    count += 2"
   ]
  },
  {
   "cell_type": "code",
   "execution_count": null,
   "metadata": {},
   "outputs": [],
   "source": []
  },
  {
   "cell_type": "code",
   "execution_count": null,
   "metadata": {},
   "outputs": [],
   "source": []
  },
  {
   "cell_type": "code",
   "execution_count": null,
   "metadata": {},
   "outputs": [],
   "source": []
  },
  {
   "cell_type": "markdown",
   "metadata": {},
   "source": [
    "## Overconfidence & Calibration "
   ]
  },
  {
   "cell_type": "code",
   "execution_count": 37,
   "metadata": {},
   "outputs": [],
   "source": [
    "from sklearn.calibration import calibration_curve"
   ]
  },
  {
   "cell_type": "code",
   "execution_count": 38,
   "metadata": {},
   "outputs": [],
   "source": [
    "# compute overconfidence\n",
    "def compute_overconf(cal,pred):\n",
    "    oacount = 0\n",
    "    toconf = np.zeros(pred.shape[0])\n",
    "    tocount = np.zeros(pred.shape[0])\n",
    "    toacount = np.zeros(pred.shape[0])\n",
    "    overconf = np.zeros(pred.shape[0])\n",
    "    acc = np.zeros(pred.shape[0])\n",
    "    for i in range(pred.shape[0]):\n",
    "        for j in range(pred.shape[1]):\n",
    "            for k in range(11): \n",
    "                lthresh = (k*2-1)*0.05\n",
    "                uthresh = (k*2+1)*0.05\n",
    "                if pred[i,j,1]-.00001 >= lthresh and pred[i,j,1]-.00001 < uthresh:\n",
    "                    if pred[i,j,1] <= 0.5 and pred[i,j,0] == 0:# and pred[i,j,2] == 0:\n",
    "                        cal[i,k*2] += 1\n",
    "                        toconf[i] += 1-pred[i,j,1]\n",
    "                    elif pred[i,j,1] >= 0.5 and pred[i,j,0] == 1:# and pred[i,j,2] == 1:\n",
    "                        cal[i,k*2] += 1.\n",
    "                        tocount[i] += 1\n",
    "                        toconf[i] += pred[i,j,1]\n",
    "                    elif pred[i,j,1] < 0.5 and pred[i,j,0] == 1:\n",
    "                        cal[i,k*2] += 0\n",
    "                        tocount[i] += 1\n",
    "                        toconf[i] += (1-pred[i,j,1])\n",
    "                    elif pred[i,j,1] > 0.5 and pred[i,j,0] == 0:\n",
    "                        cal[i,k*2] += 0\n",
    "                        toconf[i] += pred[i,j,1]\n",
    "                    cal[i,k*2+1] += 1.\n",
    "                    oacount += 1\n",
    "                    toacount[i] += 1\n",
    "    for i in range(pred.shape[0]):\n",
    "        overconf[i] = toconf[i]/toacount[i]-tocount[i]/toacount[i]\n",
    "    return overconf, cal"
   ]
  },
  {
   "cell_type": "code",
   "execution_count": 39,
   "metadata": {},
   "outputs": [],
   "source": [
    "overconf1 = np.zeros([predictions1.shape[0],22])\n",
    "oconf1, cal1 = compute_overconf(overconf1, predictions1)"
   ]
  },
  {
   "cell_type": "code",
   "execution_count": 40,
   "metadata": {},
   "outputs": [],
   "source": [
    "overconf2 = np.zeros([predictions2.shape[0],22])\n",
    "oconf2, cal2 = compute_overconf(overconf2, predictions2)"
   ]
  },
  {
   "cell_type": "code",
   "execution_count": 41,
   "metadata": {},
   "outputs": [],
   "source": [
    "overconf3 = np.zeros([predictions3.shape[0],22])\n",
    "oconf3, cal3 = compute_overconf(overconf3, predictions3)"
   ]
  },
  {
   "cell_type": "code",
   "execution_count": 42,
   "metadata": {},
   "outputs": [],
   "source": [
    "cdat1 = []\n",
    "for i in range(scores1.shape[0]):\n",
    "    cdat1.append({0:[],10:[],20:[],30:[],40:[],50:[],60:[],70:[],80:[],90:[],100:[]})"
   ]
  },
  {
   "cell_type": "code",
   "execution_count": 43,
   "metadata": {},
   "outputs": [],
   "source": [
    "cdat2 = []\n",
    "for i in range(scores2.shape[0]):\n",
    "    cdat2.append({0:[],10:[],20:[],30:[],40:[],50:[],60:[],70:[],80:[],90:[],100:[]})"
   ]
  },
  {
   "cell_type": "code",
   "execution_count": 44,
   "metadata": {},
   "outputs": [],
   "source": [
    "cdat3 = []\n",
    "for i in range(scores3.shape[0]):\n",
    "    cdat3.append({0:[],10:[],20:[],30:[],40:[],50:[],60:[],70:[],80:[],90:[],100:[]})"
   ]
  },
  {
   "cell_type": "code",
   "execution_count": 45,
   "metadata": {},
   "outputs": [],
   "source": [
    "for i in range(scores1.shape[0]):\n",
    "    for j in range(11):\n",
    "        for k in range(int(cal1[i,j*2])):\n",
    "            cdat1[i][int(j*10)].append(1)\n",
    "        for k in range(int(cal1[i,j*2+1]-cal1[i,j*2])):\n",
    "            cdat1[i][int(j*10)].append(0)"
   ]
  },
  {
   "cell_type": "code",
   "execution_count": 46,
   "metadata": {},
   "outputs": [],
   "source": [
    "for i in range(scores2.shape[0]):\n",
    "    for j in range(11):\n",
    "        for k in range(int(cal2[i,j*2])):\n",
    "            cdat2[i][int(j*10)].append(1)\n",
    "        for k in range(int(cal2[i,j*2+1]-cal2[i,j*2])):\n",
    "            cdat2[i][int(j*10)].append(0)"
   ]
  },
  {
   "cell_type": "code",
   "execution_count": 47,
   "metadata": {},
   "outputs": [],
   "source": [
    "for i in range(cal3.shape[0]):\n",
    "    for j in range(11):\n",
    "        for k in range(int(cal3[i,j*2])):\n",
    "            cdat3[i][int(j*10)].append(1)\n",
    "        for k in range(int(cal3[i,j*2+1]-cal3[i,j*2])):\n",
    "            cdat3[i][int(j*10)].append(0)"
   ]
  },
  {
   "cell_type": "code",
   "execution_count": 48,
   "metadata": {},
   "outputs": [],
   "source": [
    "# compute calibration & decomposition\n",
    "def calibration(cdat):\n",
    "    verif = cdat\n",
    "    if NOGAMES == 8:\n",
    "        obar = 6/NOGAMES\n",
    "    elif NOGAMES == 44:\n",
    "        obar = 25/NOGAMES\n",
    "    else:\n",
    "        obar = 31/NOGAMES\n",
    "    nt = NOGAMES\n",
    "    bs = 0. \n",
    "    bsref = 0. \n",
    "    nsum = 0 \n",
    "    reli = 0. \n",
    "    reso = 0. \n",
    "    freqs = [] \n",
    "    nobs = [] \n",
    "    #colors = [] \n",
    "    pops = [] \n",
    "    for k in sorted(verif.keys()):\n",
    "        pop = k/100. \n",
    "        q = verif[k] \n",
    "        nobk = len(q) \n",
    "        neventk = sum(q) \n",
    "        if nobk == 0: continue \n",
    "        pops.append(pop) \n",
    "        freq = float(neventk) / nobk \n",
    "        freqs.append(freq) \n",
    "        nobs.append(nobk) \n",
    "        reli += nobk*(pop-freq)**2  \n",
    "        reso += nobk*(freq-obar)**2 \n",
    "        for event in q:\n",
    "            bs += (pop-event)**2\n",
    "            bsref += (obar-event)**2 \n",
    "            nsum += 1\n",
    "    bs = bs/nsum \n",
    "    bsref = bsref/nsum\n",
    "    bss = 1. - bs/bsref\n",
    "    unc = obar*(1-obar) \n",
    "    reli = reli/nsum\n",
    "    reso = reso/nsum \n",
    "    bs2 = reli - reso + unc \n",
    "    return unc, reli, reso, bs"
   ]
  },
  {
   "cell_type": "code",
   "execution_count": 49,
   "metadata": {},
   "outputs": [],
   "source": [
    "dcmp1l,dcmp2l,dcmp3l,dcmp4l = [],[],[],[]\n",
    "for i in range(scores1.shape[0]):\n",
    "    unc, reli, reso, bs = calibration(cdat1[i])\n",
    "    dcmp1l.append(unc)\n",
    "    dcmp2l.append(reli)\n",
    "    dcmp3l.append(reso)\n",
    "    dcmp4l.append(bs)\n",
    "dcmp1alt = pd.concat([pd.Series(dcmp1l),pd.Series(dcmp2l),pd.Series(dcmp3l),pd.Series(dcmp4l)],axis=1)"
   ]
  },
  {
   "cell_type": "code",
   "execution_count": 50,
   "metadata": {},
   "outputs": [],
   "source": [
    "dcmp1l,dcmp2l,dcmp3l,dcmp4l = [],[],[],[]\n",
    "for i in range(scores2.shape[0]):\n",
    "    unc, reli, reso, bs = calibration(cdat2[i])\n",
    "    dcmp1l.append(unc)\n",
    "    dcmp2l.append(reli)\n",
    "    dcmp3l.append(reso)\n",
    "    dcmp4l.append(bs)\n",
    "dcmp2alt = pd.concat([pd.Series(dcmp1l),pd.Series(dcmp2l),pd.Series(dcmp3l),pd.Series(dcmp4l)],axis=1)"
   ]
  },
  {
   "cell_type": "code",
   "execution_count": 51,
   "metadata": {},
   "outputs": [],
   "source": [
    "dcmp1l,dcmp2l,dcmp3l,dcmp4l = [],[],[],[]\n",
    "for i in range(cal3.shape[0]):\n",
    "    unc, reli, reso, bs = calibration(cdat3[i])\n",
    "    dcmp1l.append(unc)\n",
    "    dcmp2l.append(reli)\n",
    "    dcmp3l.append(reso)\n",
    "    dcmp4l.append(bs)\n",
    "dcmp3alt = pd.concat([pd.Series(dcmp1l),pd.Series(dcmp2l),pd.Series(dcmp3l),pd.Series(dcmp4l)],axis=1)"
   ]
  },
  {
   "cell_type": "code",
   "execution_count": 52,
   "metadata": {},
   "outputs": [],
   "source": [
    "dcmp1alt = pd.concat([scores1.iloc[:,0:1],dcmp1alt,pd.Series(oconf1)],axis=1)\n",
    "dcmp2alt = pd.concat([scores2.iloc[:,0:1],dcmp2alt,pd.Series(oconf2)],axis=1)\n",
    "dcmp3alt = pd.concat([scores3.iloc[:,0:1],dcmp3alt,pd.Series(oconf3)],axis=1)"
   ]
  },
  {
   "cell_type": "code",
   "execution_count": null,
   "metadata": {},
   "outputs": [],
   "source": []
  },
  {
   "cell_type": "code",
   "execution_count": null,
   "metadata": {},
   "outputs": [],
   "source": []
  },
  {
   "cell_type": "code",
   "execution_count": null,
   "metadata": {},
   "outputs": [],
   "source": []
  },
  {
   "cell_type": "markdown",
   "metadata": {},
   "source": [
    "## Calibration Curve"
   ]
  },
  {
   "cell_type": "code",
   "execution_count": 53,
   "metadata": {},
   "outputs": [],
   "source": [
    "NBINS, STRATEGY = 20, 'uniform'"
   ]
  },
  {
   "cell_type": "code",
   "execution_count": 54,
   "metadata": {},
   "outputs": [],
   "source": [
    "atot3, btot3 = [],[]\n",
    "for i in range(predictions3t.shape[0]):\n",
    "    for j in range(predictions3t.shape[1]):\n",
    "        atot3.append(predictions3t[i,j])\n",
    "        btot3.append(predictions3p[i,j])"
   ]
  },
  {
   "cell_type": "code",
   "execution_count": 55,
   "metadata": {},
   "outputs": [],
   "source": [
    "a3,b3 = calibration_curve(atot3, btot3, n_bins=NBINS-1,normalize=True,strategy=STRATEGY)\n",
    "a3,b3=a3[1:],b3[1:]\n",
    "x = [.5,.6,.7,.8,.9,1.]\n",
    "x3tmp = [j - i for i, j in zip(b3[: -1], b3[1 :])]\n",
    "x3tmp = [(b3[-1]-b3[0])*.02/x for x in x3tmp]"
   ]
  },
  {
   "cell_type": "code",
   "execution_count": 56,
   "metadata": {},
   "outputs": [],
   "source": [
    "atot2, btot2 = [],[]\n",
    "for i in range(predictions2t.shape[0]):\n",
    "    for j in range(predictions2t.shape[1]):\n",
    "        atot2.append(predictions2t[i,j])\n",
    "        btot2.append(predictions2p[i,j])"
   ]
  },
  {
   "cell_type": "code",
   "execution_count": 57,
   "metadata": {},
   "outputs": [],
   "source": [
    "a2,b2 = calibration_curve(atot2, btot2, n_bins=NBINS,normalize=True,strategy=STRATEGY)\n",
    "a2, b2 = a2[1:],b2[1:]\n",
    "x = [.5,.6,.7,.8,.9,1.]\n",
    "x2tmp = [j - i for i, j in zip(b2[: -1], b2[1 :])]\n",
    "x2tmp = [(b2[-1]-b2[0])*.05/x for x in x2tmp]"
   ]
  },
  {
   "cell_type": "code",
   "execution_count": 58,
   "metadata": {},
   "outputs": [],
   "source": [
    "atot1, btot1 = [],[]\n",
    "for i in range(predictions1t.shape[0]):\n",
    "    for j in range(predictions1t.shape[1]):\n",
    "        atot1.append(predictions1t[i,j])\n",
    "        btot1.append(predictions1p[i,j])"
   ]
  },
  {
   "cell_type": "code",
   "execution_count": 59,
   "metadata": {},
   "outputs": [],
   "source": [
    "a1,b1 = calibration_curve(atot1, btot1, n_bins=NBINS,normalize=True,strategy=STRATEGY)\n",
    "a1,b1=a1[1:],b1[1:]\n",
    "x = [.5,.6,.7,.8,.9,1.]\n",
    "x1tmp = [j - i for i, j in zip(b1[: -1], b1[1 :])]\n",
    "x1tmp = [(b1[-1]-b1[0])*.035/x for x in x1tmp]"
   ]
  },
  {
   "cell_type": "code",
   "execution_count": 60,
   "metadata": {},
   "outputs": [
    {
     "data": {
      "image/png": "[encoded data removed]",
      "text/plain": [
       "<Figure size 720x720 with 2 Axes>"
      ]
     },
     "metadata": {
      "needs_background": "light"
     },
     "output_type": "display_data"
    }
   ],
   "source": [
    "fig = plt.figure(2, figsize=(10, 10))\n",
    "ax1 = plt.subplot2grid((3, 1), (0, 0), rowspan=2)\n",
    "ax2 = plt.subplot2grid((3, 1), (2, 0))\n",
    "ax1.set_title('Calibration Curves and Histograms for Treatment and Control Groups', fontsize=17)\n",
    "b3[-2] = b1[-2]\n",
    "b2[-2] = b1[-2]\n",
    "b1[0], b2[0] = 0.505, 0.505\n",
    "b1[-1],b2[-1],b3[-1] = .995,.995,.995\n",
    "ax1.plot(b2,a2,color='dodgerblue', label=\"60Q Training\")#,marker='.')\n",
    "ax1.plot(b3,a3,color='lightskyblue', label=\"Control\")#,marker='.')\n",
    "ax1.plot(b1,a1,color='darkblue', label='120Q Training')#,marker='.')\n",
    "x = [.5,.6,.7,.8,.9,1.]\n",
    "ax1.plot(x,x,color='grey',linestyle='--',label='Ideal Calibration')\n",
    "ax1.grid(color='lightgrey',alpha=0.5)\n",
    "leg = ax1.legend(loc='best', ncol=2, shadow=True, fancybox=True)\n",
    "leg.get_frame().set_alpha(0.75)\n",
    "ax1.xaxis.set_major_formatter(PercentFormatter(1))\n",
    "ax1.yaxis.set_major_formatter(PercentFormatter(1))\n",
    "ax1.set_ylabel(\"Percentage Correct\",fontsize=12)\n",
    "ax1.set_xlim(0.495,1.005)\n",
    "ax2.hist(btot2,bins=NBINS,color='dodgerblue', label=\"60Q Training\",histtype='step',range=(0.5,1.0))\n",
    "ax2.hist(btot3,bins=NBINS,color='lightskyblue', label=\"Control\",histtype='step',range=(0.5,1.0))\n",
    "ax2.hist(btot1,bins=NBINS,color='darkblue', label='120Q Training',histtype='step',range=(0.5,1.0))\n",
    "ax2.grid(color='lightgrey',alpha=0.5)\n",
    "ax2.set_xlim(0.495,1.005)\n",
    "leg = plt.legend(loc='upper left', ncol=2, shadow=True, fancybox=True)\n",
    "leg.get_frame().set_alpha(0.75)\n",
    "ax2.xaxis.set_major_formatter(PercentFormatter(1))\n",
    "ax2.set_xlabel(\"Forecast Confidence\",fontsize=12)\n",
    "ax2.set_ylabel(\"Forecast Counts\",fontsize=12)\n",
    "plt.savefig('calibration-curve-all-games.png',dpi=300)"
   ]
  },
  {
   "cell_type": "code",
   "execution_count": null,
   "metadata": {},
   "outputs": [],
   "source": []
  },
  {
   "cell_type": "code",
   "execution_count": null,
   "metadata": {},
   "outputs": [],
   "source": []
  },
  {
   "cell_type": "code",
   "execution_count": null,
   "metadata": {},
   "outputs": [],
   "source": []
  },
  {
   "cell_type": "markdown",
   "metadata": {},
   "source": [
    "# preparing data for export"
   ]
  },
  {
   "cell_type": "markdown",
   "metadata": {},
   "source": [
    "### open training data and combine with tournament data\n",
    "### 1) control group:\n"
   ]
  },
  {
   "cell_type": "code",
   "execution_count": 61,
   "metadata": {},
   "outputs": [],
   "source": [
    "import copy\n",
    "NUM = NOGAMES"
   ]
  },
  {
   "cell_type": "code",
   "execution_count": 62,
   "metadata": {},
   "outputs": [],
   "source": [
    "# load training data\n",
    "t0 = pd.read_csv(\"ControlGroup.csv\")\n",
    "t0 = t0.iloc[:,1:]\n",
    "Q1 = list(t0.iloc[:,-19])\n",
    "# process responses to cognitive reflection test (CRT)\n",
    "for i in range (len(Q1)):\n",
    "    if '5' in str(Q1[i]) and '2.15' not in str(Q1[i]) and '1.05' not in str(Q1[i]):\n",
    "        Q1[i] = 1\n",
    "    else:\n",
    "        Q1[i] = 0\n",
    "Q2 = list(t0.iloc[:,-17])\n",
    "for i in range (len(Q2)):\n",
    "    if '5' in str(Q2[i]) and '25' not in str(Q2[i]) and 'hours' not in str(Q2[i]) and '50' not in str(Q2[i]):\n",
    "        Q2[i] = 1\n",
    "    else:\n",
    "        Q2[i] = 0\n",
    "Q3 = list(t0.iloc[:,-16])\n",
    "for i in range (len(Q3)):\n",
    "    if '47' in str(Q3[i]) and '25' not in str(Q3[i]) and 'hours' not in str(Q3[i]):\n",
    "        Q3[i] = 1\n",
    "    else:\n",
    "        Q3[i] = 0\n",
    "Q4 = list(t0.iloc[:,-6])\n",
    "for i in range (len(Q4)):\n",
    "    if 'Never' in str(Q4[i]): #\n",
    "        Q4[i] = 0\n",
    "    elif 'twice' in str(Q4[i]):\n",
    "        Q4[i] = 1\n",
    "    elif 'Once a' in str(Q4[i]):\n",
    "        Q4[i] = 2\n",
    "    elif '2-3' in str(Q4[i]):\n",
    "        Q4[i] = 3\n",
    "    else:\n",
    "        Q4[i] = 4\n",
    "Q5 = list(t0.iloc[:,-11])\n",
    "Q6 = list(t0.iloc[:,-4])\n",
    "for i in range(len(Q5)):\n",
    "    if len(str(Q5[i])) > 0:\n",
    "        tmpQ = str(Q5[i]).split(',')\n",
    "        if len(tmpQ) < 2:\n",
    "            Q5[i] = 0\n",
    "        elif len(tmpQ) == 2:\n",
    "            Q5[i] = 1\n",
    "        elif len(tmpQ) == 3:\n",
    "            Q5[i] = 2\n",
    "        elif len(tmpQ) == 4:\n",
    "            Q5[i] = 3\n",
    "        elif len(tmpQ) == 5:\n",
    "            Q5[i] = 4\n",
    "        else:\n",
    "            Q5[i] = 5\n",
    "for i in range(len(Q6)):\n",
    "    if len(str(Q6[i])) > 0:\n",
    "        tmpQ = str(Q6[i]).split(',')\n",
    "        if len(tmpQ) < 2:\n",
    "            Q6[i] = 0\n",
    "        elif len(tmpQ) == 2:\n",
    "            Q6[i] = 1\n",
    "        elif len(tmpQ) == 3:\n",
    "            Q6[i] = 2\n",
    "        elif len(tmpQ) == 4:\n",
    "            Q6[i] = 3\n",
    "        elif len(tmpQ) == 5:\n",
    "            Q6[i] = 4\n",
    "        else:\n",
    "            Q6[i] = 5\n",
    "Q6 = pd.DataFrame(Q6)\n",
    "Q5 = pd.DataFrame(Q5)\n",
    "Q4 = pd.DataFrame(Q4)\n",
    "t0['Qs'] = pd.DataFrame(np.sum([Q1,Q2,Q3],0))"
   ]
  },
  {
   "cell_type": "code",
   "execution_count": 63,
   "metadata": {},
   "outputs": [
    {
     "name": "stderr",
     "output_type": "stream",
     "text": [
      "/usr/local/lib/python3.7/site-packages/ipykernel_launcher.py:3: SettingWithCopyWarning: \n",
      "A value is trying to be set on a copy of a slice from a DataFrame\n",
      "\n",
      "See the caveats in the documentation: https://pandas.pydata.org/pandas-docs/stable/user_guide/indexing.html#returning-a-view-versus-a-copy\n",
      "  This is separate from the ipykernel package so we can avoid doing imports until\n",
      "/usr/local/lib/python3.7/site-packages/ipykernel_launcher.py:4: SettingWithCopyWarning: \n",
      "A value is trying to be set on a copy of a slice from a DataFrame\n",
      "\n",
      "See the caveats in the documentation: https://pandas.pydata.org/pandas-docs/stable/user_guide/indexing.html#returning-a-view-versus-a-copy\n",
      "  after removing the cwd from sys.path.\n",
      "/usr/local/lib/python3.7/site-packages/ipykernel_launcher.py:5: SettingWithCopyWarning: \n",
      "A value is trying to be set on a copy of a slice from a DataFrame\n",
      "\n",
      "See the caveats in the documentation: https://pandas.pydata.org/pandas-docs/stable/user_guide/indexing.html#returning-a-view-versus-a-copy\n",
      "  \"\"\"\n",
      "/usr/local/lib/python3.7/site-packages/ipykernel_launcher.py:6: SettingWithCopyWarning: \n",
      "A value is trying to be set on a copy of a slice from a DataFrame\n",
      "\n",
      "See the caveats in the documentation: https://pandas.pydata.org/pandas-docs/stable/user_guide/indexing.html#returning-a-view-versus-a-copy\n",
      "  \n"
     ]
    }
   ],
   "source": [
    "# merge data\n",
    "t0['Female'] = t0.index\n",
    "t0.Female[t0.iloc[:,9] == 'Female'] = 1\n",
    "t0.Female[t0.iloc[:,9] == 'Male'] = 0\n",
    "t0.iloc[:,-11][pd.notnull(t0.iloc[:,-11])] = 1\n",
    "t0.iloc[:,-11][pd.isnull(t0.iloc[:,-11])] = 0\n",
    "t0 = pd.concat([t0.iloc[:,-4],t0.iloc[:,-1],t0[['Qs']],t0.iloc[:,-5]],axis=1)#,t0.iloc[:,-11]],axis=1)\n",
    "t0.columns = ['Email Address', 'Female', 'CRT','EXPERTISE']\n",
    "t0 = t0.dropna()\n",
    "scores3t = pd.concat([scores3.iloc[:,0],scores3.iloc[:,1:].sum(axis=1)],axis=1)\n",
    "scores3t.columns = ['Email Address', 'Brier Scores']\n",
    "scores3t['Brier Scores'] = scores3t['Brier Scores']/NUM\n",
    "t0c = copy.deepcopy(t0)\n",
    "dcmp3alt.columns = ['Email Address', 'buncertainty', 'bcalibration', 'bresolution','bs','oconf']\n",
    "scores3t = dcmp3alt.merge(scores3t,on='Email Address')\n",
    "scores3t = scores3t.merge(t0c,on='Email Address')"
   ]
  },
  {
   "cell_type": "markdown",
   "metadata": {},
   "source": [
    "### 2) 120-question treatment group:"
   ]
  },
  {
   "cell_type": "code",
   "execution_count": 64,
   "metadata": {},
   "outputs": [],
   "source": [
    "# load training data\n",
    "t120 = pd.read_csv(\"TreatmentGroup120Training.csv\")\n",
    "t120 = t120.iloc[:,1:]\n",
    "Q1 = list(t120.iloc[:,-24])\n",
    "# process responses to cognitive reflection test (CRT)\n",
    "for i in range (len(Q1)):\n",
    "    if '5' in str(Q1[i]) and '2.15' not in str(Q1[i]) and '1.05' not in str(Q1[i]):\n",
    "        Q1[i] = 1\n",
    "    else:\n",
    "        Q1[i] = 0\n",
    "Q2 = list(t120.iloc[:,-23])\n",
    "for i in range (len(Q2)):\n",
    "    if '5' in str(Q2[i]) and '25' not in str(Q2[i]) and 'hours' not in str(Q2[i]):\n",
    "        Q2[i] = 1\n",
    "    else:\n",
    "        Q2[i] = 0\n",
    "Q3 = list(t120.iloc[:,-22])\n",
    "for i in range (len(Q3)):\n",
    "    if '47' in str(Q3[i]) and '25' not in str(Q3[i]) and 'hours' not in str(Q3[i]):\n",
    "        Q3[i] = 1\n",
    "    else:\n",
    "        Q3[i] = 0\n",
    "Q4 = list(t120.iloc[:,-4])\n",
    "for i in range (len(Q4)):\n",
    "    if 'Never' in str(Q4[i]): \n",
    "        Q4[i] = 0\n",
    "    elif 'twice' in str(Q4[i]):\n",
    "        Q4[i] = 1\n",
    "    elif 'Once a' in str(Q4[i]):\n",
    "        Q4[i] = 2\n",
    "    elif '2-3' in str(Q4[i]):\n",
    "        Q4[i] = 3\n",
    "    else:\n",
    "        Q4[i] = 4\n",
    "Q5 = list(t120.iloc[:,-9])\n",
    "for i in range(len(Q5)):\n",
    "    if len(str(Q5[i])) > 0:\n",
    "        tmpQ = str(Q5[i]).split(',')\n",
    "        if len(tmpQ) < 2:\n",
    "            Q5[i] = 0\n",
    "        elif len(tmpQ) == 2:\n",
    "            Q5[i] = 1\n",
    "        elif len(tmpQ) == 3:\n",
    "            Q5[i] = 2\n",
    "        elif len(tmpQ) == 4:\n",
    "            Q5[i] = 3\n",
    "        elif len(tmpQ) == 5:\n",
    "            Q5[i] = 4\n",
    "        else:\n",
    "            Q5[i] = 5\n",
    "Q5 = pd.DataFrame(Q5)\n",
    "Q4 = pd.DataFrame(Q4)\n",
    "t120['Qs'] = pd.DataFrame(np.sum([Q1,Q2,Q3],0))"
   ]
  },
  {
   "cell_type": "code",
   "execution_count": 65,
   "metadata": {},
   "outputs": [
    {
     "name": "stderr",
     "output_type": "stream",
     "text": [
      "/usr/local/lib/python3.7/site-packages/ipykernel_launcher.py:3: SettingWithCopyWarning: \n",
      "A value is trying to be set on a copy of a slice from a DataFrame\n",
      "\n",
      "See the caveats in the documentation: https://pandas.pydata.org/pandas-docs/stable/user_guide/indexing.html#returning-a-view-versus-a-copy\n",
      "  This is separate from the ipykernel package so we can avoid doing imports until\n",
      "/usr/local/lib/python3.7/site-packages/ipykernel_launcher.py:4: SettingWithCopyWarning: \n",
      "A value is trying to be set on a copy of a slice from a DataFrame\n",
      "\n",
      "See the caveats in the documentation: https://pandas.pydata.org/pandas-docs/stable/user_guide/indexing.html#returning-a-view-versus-a-copy\n",
      "  after removing the cwd from sys.path.\n",
      "/usr/local/lib/python3.7/site-packages/ipykernel_launcher.py:5: SettingWithCopyWarning: \n",
      "A value is trying to be set on a copy of a slice from a DataFrame\n",
      "\n",
      "See the caveats in the documentation: https://pandas.pydata.org/pandas-docs/stable/user_guide/indexing.html#returning-a-view-versus-a-copy\n",
      "  \"\"\"\n",
      "/usr/local/lib/python3.7/site-packages/ipykernel_launcher.py:6: SettingWithCopyWarning: \n",
      "A value is trying to be set on a copy of a slice from a DataFrame\n",
      "\n",
      "See the caveats in the documentation: https://pandas.pydata.org/pandas-docs/stable/user_guide/indexing.html#returning-a-view-versus-a-copy\n",
      "  \n"
     ]
    }
   ],
   "source": [
    "# merge data\n",
    "t120['Female'] = t120.index\n",
    "t120.Female[t120.iloc[:,-15] == 'Female'] = 1\n",
    "t120.Female[t120.iloc[:,-15] == 'Male'] = 0\n",
    "t120.iloc[:,-11][pd.notnull(t120.iloc[:,-11])] = 1\n",
    "t120.iloc[:,-11][pd.isnull(t120.iloc[:,-11])] = 0\n",
    "t120 = pd.concat([t120.iloc[:,-4],t120.iloc[:,-1],t120[['Qs']],t120.iloc[:,-5]],axis=1)\n",
    "t120.columns = ['Email Address', 'Female', 'CRT','EXPERTISE']\n",
    "t120 = t120.dropna()\n",
    "scores1t = pd.concat([scores1.iloc[:,0],scores1.iloc[:,1:].sum(axis=1)],axis=1) \n",
    "scores1t.columns = ['Email Address', 'Brier Scores']\n",
    "scores1t['Brier Scores'] = scores1t['Brier Scores']/NUM\n",
    "dcmp1alt.columns = ['Email Address', 'buncertainty', 'bcalibration', 'bresolution','bs','oconf']\n",
    "scores1t = scores1t.merge(dcmp1alt,on='Email Address')\n",
    "t120c = copy.deepcopy(t120)\n",
    "scores1t = scores1t.merge(t120c,on='Email Address')"
   ]
  },
  {
   "cell_type": "markdown",
   "metadata": {},
   "source": [
    "### 3) 60-question treatment group"
   ]
  },
  {
   "cell_type": "code",
   "execution_count": 66,
   "metadata": {},
   "outputs": [],
   "source": [
    "# load training data\n",
    "t60 = pd.read_csv(\"TreatmentGroup60Training.csv\")\n",
    "t60 = t60.iloc[:,1:]\n",
    "Q1 = list(t60.iloc[:,-24])\n",
    "# process responses to cognitive reflection test (CRT)\n",
    "for i in range (len(Q1)):\n",
    "    if '5' in str(Q1[i]) and '2.15' not in str(Q1[i]) and '1.05' not in str(Q1[i]):\n",
    "        Q1[i] = 1\n",
    "    else:\n",
    "        Q1[i] = 0\n",
    "Q2 = list(t60.iloc[:,-23])\n",
    "for i in range (len(Q2)):\n",
    "    if '5' in str(Q2[i]) and '25' not in str(Q2[i]) and 'hours' not in str(Q2[i]):\n",
    "        Q2[i] = 1\n",
    "    else:\n",
    "        Q2[i] = 0\n",
    "Q3 = list(t60.iloc[:,-22])\n",
    "for i in range (len(Q3)):\n",
    "    if '47' in str(Q3[i]) and '25' not in str(Q3[i]) and 'hours' not in str(Q3[i]):\n",
    "        Q3[i] = 1\n",
    "    else:\n",
    "        Q3[i] = 0\n",
    "Q4 = list(t60.iloc[:,-4])\n",
    "for i in range (len(Q4)):\n",
    "    if 'Never' in str(Q4[i]): \n",
    "        Q4[i] = 0\n",
    "    elif 'twice' in str(Q4[i]):\n",
    "        Q4[i] = 1\n",
    "    elif 'Once a' in str(Q4[i]):\n",
    "        Q4[i] = 2\n",
    "    elif '2-3' in str(Q4[i]):\n",
    "        Q4[i] = 3\n",
    "    else:\n",
    "        Q4[i] = 4\n",
    "Q5 = list(t60.iloc[:,-9])\n",
    "for i in range(len(Q5)):\n",
    "    if len(str(Q5[i])) > 0:\n",
    "        tmpQ = str(Q5[i]).split(',')\n",
    "        if len(tmpQ) < 2:\n",
    "            Q5[i] = 0\n",
    "        elif len(tmpQ) == 2:\n",
    "            Q5[i] = 1\n",
    "        elif len(tmpQ) == 3:\n",
    "            Q5[i] = 2\n",
    "        elif len(tmpQ) == 4:\n",
    "            Q5[i] = 3\n",
    "        elif len(tmpQ) == 5:\n",
    "            Q5[i] = 4\n",
    "        else:\n",
    "            Q5[i] = 5\n",
    "Q5 = pd.DataFrame(Q5)\n",
    "Q4 = pd.DataFrame(Q4)\n",
    "t60['Qs'] = pd.DataFrame(np.sum([Q1,Q2,Q3],0))"
   ]
  },
  {
   "cell_type": "code",
   "execution_count": 67,
   "metadata": {},
   "outputs": [
    {
     "name": "stderr",
     "output_type": "stream",
     "text": [
      "/usr/local/lib/python3.7/site-packages/ipykernel_launcher.py:3: SettingWithCopyWarning: \n",
      "A value is trying to be set on a copy of a slice from a DataFrame\n",
      "\n",
      "See the caveats in the documentation: https://pandas.pydata.org/pandas-docs/stable/user_guide/indexing.html#returning-a-view-versus-a-copy\n",
      "  This is separate from the ipykernel package so we can avoid doing imports until\n",
      "/usr/local/lib/python3.7/site-packages/ipykernel_launcher.py:4: SettingWithCopyWarning: \n",
      "A value is trying to be set on a copy of a slice from a DataFrame\n",
      "\n",
      "See the caveats in the documentation: https://pandas.pydata.org/pandas-docs/stable/user_guide/indexing.html#returning-a-view-versus-a-copy\n",
      "  after removing the cwd from sys.path.\n",
      "/usr/local/lib/python3.7/site-packages/ipykernel_launcher.py:5: SettingWithCopyWarning: \n",
      "A value is trying to be set on a copy of a slice from a DataFrame\n",
      "\n",
      "See the caveats in the documentation: https://pandas.pydata.org/pandas-docs/stable/user_guide/indexing.html#returning-a-view-versus-a-copy\n",
      "  \"\"\"\n",
      "/usr/local/lib/python3.7/site-packages/ipykernel_launcher.py:6: SettingWithCopyWarning: \n",
      "A value is trying to be set on a copy of a slice from a DataFrame\n",
      "\n",
      "See the caveats in the documentation: https://pandas.pydata.org/pandas-docs/stable/user_guide/indexing.html#returning-a-view-versus-a-copy\n",
      "  \n"
     ]
    }
   ],
   "source": [
    "# merge data\n",
    "t60['Female'] = t60.index\n",
    "t60.Female[t60.iloc[:,-15] == 'Female'] = 1\n",
    "t60.Female[t60.iloc[:,-15] == 'Male'] = 0\n",
    "t60.iloc[:,-11][pd.notnull(t60.iloc[:,-11])] = 1\n",
    "t60.iloc[:,-11][pd.isnull(t60.iloc[:,-11])] = 0\n",
    "t60 = pd.concat([t60.iloc[:,-4],t60.iloc[:,-1],t60[['Qs']],t60.iloc[:,-5]],axis=1)\n",
    "t60.columns = ['Email Address', 'Female', 'CRT','EXPERTISE']\n",
    "t60 = t60.dropna()\n",
    "scores2t = pd.concat([scores2.iloc[:,0],scores2.iloc[:,1:].sum(axis=1)],axis=1)\n",
    "scores2t.columns = ['Email Address', 'Brier Scores']\n",
    "scores2t['Brier Scores'] = scores2t['Brier Scores']/NUM\n",
    "dcmp2alt.columns = ['Email Address', 'buncertainty', 'bcalibration', 'bresolution','bs','oconf']\n",
    "scores2t = scores2t.merge(dcmp2alt,on='Email Address')\n",
    "t60c = copy.deepcopy(t60)\n",
    "scores2t = scores2t.merge(t60c,on='Email Address')"
   ]
  },
  {
   "cell_type": "code",
   "execution_count": 68,
   "metadata": {},
   "outputs": [
    {
     "name": "stdout",
     "output_type": "stream",
     "text": [
      "Total participants processed 120-question group: 38\n",
      "Total participants processed 60-question group: 45\n",
      "Total participants processed control group: 40\n"
     ]
    }
   ],
   "source": [
    "print(\"Total participants processed 120-question group: \" + str(scores1t.shape[0]))\n",
    "print(\"Total participants processed 60-question group: \" + str(scores2t.shape[0]))\n",
    "print(\"Total participants processed control group: \" + str(scores3t.shape[0]))"
   ]
  },
  {
   "cell_type": "code",
   "execution_count": 69,
   "metadata": {
    "hide_input": false
   },
   "outputs": [],
   "source": [
    "# prepare dataframe for export\n",
    "X = np.zeros((scores1t.shape[0]+scores2t.shape[0]+scores3t.shape[0],9))\n",
    "X[:scores1t.shape[0],0] = 1\n",
    "X[:scores1t.shape[0],2] = scores1t['CRT'].to_numpy()\n",
    "X[:scores1t.shape[0],3] = scores1t['Female'].to_numpy()\n",
    "X[:scores1t.shape[0],4] = scores1t['EXPERTISE'].to_numpy()\n",
    "X[:scores1t.shape[0],5] = scores1t['Brier Scores'].to_numpy()\n",
    "X[:scores1t.shape[0],6] = scores1t['bcalibration'].to_numpy()\n",
    "X[:scores1t.shape[0],7] = scores1t['bresolution'].to_numpy()\n",
    "X[:scores1t.shape[0],8] = scores1t['oconf'].to_numpy()\n",
    "X[scores1t.shape[0]:scores1t.shape[0]+scores2t.shape[0],1] = 1\n",
    "X[scores1t.shape[0]:scores1t.shape[0]+scores2t.shape[0],2] = scores2t['CRT'].to_numpy()\n",
    "X[scores1t.shape[0]:scores1t.shape[0]+scores2t.shape[0],3] = scores2t['Female'].to_numpy()\n",
    "X[scores1t.shape[0]:scores1t.shape[0]+scores2t.shape[0],4] = scores2t['EXPERTISE'].to_numpy()\n",
    "X[scores1t.shape[0]:scores1t.shape[0]+scores2t.shape[0],5] = scores2t['Brier Scores'].to_numpy()\n",
    "X[scores1t.shape[0]:scores1t.shape[0]+scores2t.shape[0],6] = scores2t['bcalibration'].to_numpy()\n",
    "X[scores1t.shape[0]:scores1t.shape[0]+scores2t.shape[0],7] = scores2t['bresolution'].to_numpy()\n",
    "X[scores1t.shape[0]:scores1t.shape[0]+scores2t.shape[0],8] = scores2t['oconf'].to_numpy()\n",
    "X[scores1t.shape[0]+scores2t.shape[0]:,2] = scores3t['CRT'].to_numpy()\n",
    "X[scores1t.shape[0]+scores2t.shape[0]:,3] = scores3t['Female'].to_numpy()\n",
    "X[scores1t.shape[0]+scores2t.shape[0]:,4] = scores3t['EXPERTISE'].to_numpy()\n",
    "X[scores1t.shape[0]+scores2t.shape[0]:,5] = scores3t['Brier Scores'].to_numpy()\n",
    "X[scores1t.shape[0]+scores2t.shape[0]:,6] = scores3t['bcalibration'].to_numpy()\n",
    "X[scores1t.shape[0]+scores2t.shape[0]:,7] = scores3t['bresolution'].to_numpy()\n",
    "X[scores1t.shape[0]+scores2t.shape[0]:,8] = scores3t['oconf'].to_numpy()"
   ]
  },
  {
   "cell_type": "code",
   "execution_count": 70,
   "metadata": {},
   "outputs": [],
   "source": [
    "# export dataframe\n",
    "X = pd.DataFrame(X)\n",
    "X.columns = ['D120','D60','CRT','FEMALE','EXPERTISE','BSCORE','CAL','RES','OCONF']\n",
    "X.to_csv(\"data-all-games_anon.csv\")"
   ]
  },
  {
   "cell_type": "code",
   "execution_count": null,
   "metadata": {},
   "outputs": [],
   "source": []
  },
  {
   "cell_type": "code",
   "execution_count": null,
   "metadata": {},
   "outputs": [],
   "source": []
  },
  {
   "cell_type": "code",
   "execution_count": null,
   "metadata": {},
   "outputs": [],
   "source": []
  }
 ],
 "metadata": {
  "celltoolbar": "Tags",
  "kernelspec": {
   "display_name": "Python 3",
   "language": "python",
   "name": "python3"
  },
  "language_info": {
   "codemirror_mode": {
    "name": "ipython",
    "version": 3
   },
   "file_extension": ".py",
   "mimetype": "text/x-python",
   "name": "python",
   "nbconvert_exporter": "python",
   "pygments_lexer": "ipython3",
   "version": "3.7.7"
  }
 },
 "nbformat": 4,
 "nbformat_minor": 2
}
